{
 "cells": [
  {
   "cell_type": "code",
   "execution_count": 1,
   "metadata": {},
   "outputs": [],
   "source": [
    "from process import *\n",
    "from populate import *\n",
    "from clustering import *\n"
   ]
  },
  {
   "cell_type": "code",
   "execution_count": 43,
   "metadata": {},
   "outputs": [],
   "source": [
    "if 'populate' in sys.modules:  \n",
    "    del sys.modules[\"populate\"]"
   ]
  },
  {
   "cell_type": "code",
   "execution_count": 2,
   "metadata": {},
   "outputs": [
    {
     "name": "stdout",
     "output_type": "stream",
     "text": [
      "Populating raw census database for state fips code 12.\n"
     ]
    },
    {
     "ename": "TypeError",
     "evalue": "df_to_db() takes from 2 to 3 positional arguments but 4 were given",
     "output_type": "error",
     "traceback": [
      "\u001b[0;31m---------------------------------------------------------------------------\u001b[0m",
      "\u001b[0;31mTypeError\u001b[0m                                 Traceback (most recent call last)",
      "\u001b[0;32m<ipython-input-2-e79c3fa0f85f>\u001b[0m in \u001b[0;36m<module>\u001b[0;34m\u001b[0m\n\u001b[1;32m      4\u001b[0m \u001b[0;34m\u001b[0m\u001b[0m\n\u001b[1;32m      5\u001b[0m \u001b[0;34m\u001b[0m\u001b[0m\n\u001b[0;32m----> 6\u001b[0;31m \u001b[0mpopulate_and_process\u001b[0m\u001b[0;34m(\u001b[0m\u001b[0mSTATES\u001b[0m\u001b[0;34m,\u001b[0m \u001b[0mraw_data_db\u001b[0m\u001b[0;34m,\u001b[0m \u001b[0mproc_data_db\u001b[0m\u001b[0;34m)\u001b[0m\u001b[0;34m\u001b[0m\u001b[0;34m\u001b[0m\u001b[0m\n\u001b[0m\u001b[1;32m      7\u001b[0m \u001b[0;34m\u001b[0m\u001b[0m\n\u001b[1;32m      8\u001b[0m \u001b[0mgdf\u001b[0m \u001b[0;34m=\u001b[0m \u001b[0mgenerate_cluster_shapefile\u001b[0m\u001b[0;34m(\u001b[0m\u001b[0mSTATES\u001b[0m\u001b[0;34m,\u001b[0m \u001b[0mproc_data_db\u001b[0m\u001b[0;34m)\u001b[0m\u001b[0;34m\u001b[0m\u001b[0;34m\u001b[0m\u001b[0m\n",
      "\u001b[0;32m~/DS/AutoMarketSeg/automarketseg/process.py\u001b[0m in \u001b[0;36mpopulate_and_process\u001b[0;34m(States, raw_data_db, proc_data_db)\u001b[0m\n\u001b[1;32m    334\u001b[0m     \u001b[0;32mfor\u001b[0m \u001b[0mstate\u001b[0m \u001b[0;32min\u001b[0m \u001b[0mStates\u001b[0m\u001b[0;34m:\u001b[0m\u001b[0;34m\u001b[0m\u001b[0;34m\u001b[0m\u001b[0m\n\u001b[1;32m    335\u001b[0m \u001b[0;34m\u001b[0m\u001b[0m\n\u001b[0;32m--> 336\u001b[0;31m         \u001b[0mcensus_to_database\u001b[0m\u001b[0;34m(\u001b[0m\u001b[0mstate\u001b[0m\u001b[0;34m,\u001b[0m \u001b[0mtables\u001b[0m\u001b[0;34m,\u001b[0m \u001b[0mraw_data_db\u001b[0m\u001b[0;34m)\u001b[0m\u001b[0;34m\u001b[0m\u001b[0;34m\u001b[0m\u001b[0m\n\u001b[0m\u001b[1;32m    337\u001b[0m \u001b[0;34m\u001b[0m\u001b[0m\n\u001b[1;32m    338\u001b[0m         \u001b[0mprocess_tables\u001b[0m\u001b[0;34m(\u001b[0m\u001b[0mstate\u001b[0m\u001b[0;34m,\u001b[0m \u001b[0mtables\u001b[0m\u001b[0;34m,\u001b[0m \u001b[0mmain_processing_dict\u001b[0m\u001b[0;34m,\u001b[0m \u001b[0mfunction_dict\u001b[0m\u001b[0;34m,\u001b[0m \u001b[0mraw_data_db\u001b[0m\u001b[0;34m,\u001b[0m \u001b[0mproc_data_db\u001b[0m\u001b[0;34m)\u001b[0m\u001b[0;34m\u001b[0m\u001b[0;34m\u001b[0m\u001b[0m\n",
      "\u001b[0;32m~/DS/AutoMarketSeg/automarketseg/populate.py\u001b[0m in \u001b[0;36mcensus_to_database\u001b[0;34m(state_fips, table_list, db_path, api_key)\u001b[0m\n\u001b[1;32m     28\u001b[0m             \u001b[0mdf\u001b[0m \u001b[0;34m=\u001b[0m \u001b[0mcensus_api_table_query\u001b[0m\u001b[0;34m(\u001b[0m\u001b[0mstate_fips\u001b[0m\u001b[0;34m,\u001b[0m \u001b[0mt\u001b[0m\u001b[0;34m,\u001b[0m \u001b[0mapi_key\u001b[0m\u001b[0;34m)\u001b[0m\u001b[0;34m\u001b[0m\u001b[0;34m\u001b[0m\u001b[0m\n\u001b[1;32m     29\u001b[0m             \u001b[0mmdf\u001b[0m \u001b[0;34m=\u001b[0m \u001b[0mcensus_api_metadata_query\u001b[0m\u001b[0;34m(\u001b[0m\u001b[0mt\u001b[0m\u001b[0;34m,\u001b[0m \u001b[0mapi_key\u001b[0m\u001b[0;34m)\u001b[0m \u001b[0;31m#metadata same for all states\u001b[0m\u001b[0;34m\u001b[0m\u001b[0;34m\u001b[0m\u001b[0m\n\u001b[0;32m---> 30\u001b[0;31m             \u001b[0mdf_to_db\u001b[0m\u001b[0;34m(\u001b[0m\u001b[0mdf\u001b[0m\u001b[0;34m,\u001b[0m \u001b[0mc\u001b[0m\u001b[0;34m,\u001b[0m \u001b[0mconn\u001b[0m\u001b[0;34m,\u001b[0m \u001b[0;34m'ST'\u001b[0m \u001b[0;34m+\u001b[0m \u001b[0mstate_fips\u001b[0m \u001b[0;34m+\u001b[0m \u001b[0;34m'_'\u001b[0m \u001b[0;34m+\u001b[0m \u001b[0mt\u001b[0m\u001b[0;34m)\u001b[0m\u001b[0;34m\u001b[0m\u001b[0;34m\u001b[0m\u001b[0m\n\u001b[0m\u001b[1;32m     31\u001b[0m             \u001b[0mdf_to_db\u001b[0m\u001b[0;34m(\u001b[0m\u001b[0mmdf\u001b[0m\u001b[0;34m,\u001b[0m \u001b[0mc\u001b[0m\u001b[0;34m,\u001b[0m \u001b[0mconn\u001b[0m\u001b[0;34m,\u001b[0m \u001b[0;34m'ST'\u001b[0m \u001b[0;34m+\u001b[0m \u001b[0mstate_fips\u001b[0m \u001b[0;34m+\u001b[0m \u001b[0;34m'_'\u001b[0m \u001b[0;34m+\u001b[0m \u001b[0mt\u001b[0m \u001b[0;34m+\u001b[0m \u001b[0;34m'_metadata'\u001b[0m\u001b[0;34m)\u001b[0m\u001b[0;34m\u001b[0m\u001b[0;34m\u001b[0m\u001b[0m\n\u001b[1;32m     32\u001b[0m \u001b[0;34m\u001b[0m\u001b[0m\n",
      "\u001b[0;31mTypeError\u001b[0m: df_to_db() takes from 2 to 3 positional arguments but 4 were given"
     ]
    }
   ],
   "source": [
    "STATES = ['12']\n",
    "raw_data_db = '../data/raw_data.db'\n",
    "proc_data_db = '../data/proc_data.db'\n",
    "\n",
    "\n",
    "populate_and_process(STATES, raw_data_db, proc_data_db)\n",
    "\n",
    "gdf = generate_cluster_shapefile(STATES, proc_data_db)"
   ]
  },
  {
   "cell_type": "code",
   "execution_count": 41,
   "metadata": {},
   "outputs": [],
   "source": [
    "table_name = 'S0101'\n",
    "state_fips = '12'\n",
    "query = f'https://api.census.gov/data/2019/acs/acs5/subject?get=group({table_name}) \\\n",
    "            &for=tract:*&in=state:{state_fips}&key='\n",
    "\n",
    "r = requests.get(query)\n",
    "df = json_to_df(r.json())"
   ]
  },
  {
   "cell_type": "code",
   "execution_count": 39,
   "metadata": {},
   "outputs": [
    {
     "data": {
      "text/html": "<div>\n<style scoped>\n    .dataframe tbody tr th:only-of-type {\n        vertical-align: middle;\n    }\n\n    .dataframe tbody tr th {\n        vertical-align: top;\n    }\n\n    .dataframe thead th {\n        text-align: right;\n    }\n</style>\n<table border=\"1\" class=\"dataframe\">\n  <thead>\n    <tr style=\"text-align: right;\">\n      <th></th>\n      <th>GEO_ID</th>\n      <th>NAME</th>\n      <th>S0101_C01_001E</th>\n      <th>S0101_C01_001M</th>\n      <th>S0101_C01_002E</th>\n      <th>S0101_C01_002M</th>\n      <th>S0101_C01_003E</th>\n      <th>S0101_C01_003M</th>\n      <th>S0101_C01_004E</th>\n      <th>S0101_C01_004M</th>\n      <th>...</th>\n      <th>S0101_C06_035M</th>\n      <th>S0101_C06_036E</th>\n      <th>S0101_C06_036M</th>\n      <th>S0101_C06_037E</th>\n      <th>S0101_C06_037M</th>\n      <th>S0101_C06_038E</th>\n      <th>S0101_C06_038M</th>\n      <th>state</th>\n      <th>county</th>\n      <th>tract</th>\n    </tr>\n  </thead>\n  <tbody>\n    <tr>\n      <th>0</th>\n      <td>1400000US12086000211</td>\n      <td>Census Tract 2.11, Miami-Dade County, Florida</td>\n      <td>2812</td>\n      <td>324</td>\n      <td>107</td>\n      <td>51</td>\n      <td>127</td>\n      <td>71</td>\n      <td>155</td>\n      <td>54</td>\n      <td>...</td>\n      <td>-888888888</td>\n      <td>-888888888</td>\n      <td>-888888888</td>\n      <td>-888888888</td>\n      <td>-888888888</td>\n      <td>-888888888</td>\n      <td>-888888888</td>\n      <td>12</td>\n      <td>086</td>\n      <td>000211</td>\n    </tr>\n    <tr>\n      <th>1</th>\n      <td>1400000US12086000212</td>\n      <td>Census Tract 2.12, Miami-Dade County, Florida</td>\n      <td>4709</td>\n      <td>442</td>\n      <td>404</td>\n      <td>122</td>\n      <td>253</td>\n      <td>101</td>\n      <td>269</td>\n      <td>106</td>\n      <td>...</td>\n      <td>-888888888</td>\n      <td>-888888888</td>\n      <td>-888888888</td>\n      <td>-888888888</td>\n      <td>-888888888</td>\n      <td>-888888888</td>\n      <td>-888888888</td>\n      <td>12</td>\n      <td>086</td>\n      <td>000212</td>\n    </tr>\n    <tr>\n      <th>2</th>\n      <td>1400000US12086000213</td>\n      <td>Census Tract 2.13, Miami-Dade County, Florida</td>\n      <td>5005</td>\n      <td>571</td>\n      <td>359</td>\n      <td>157</td>\n      <td>469</td>\n      <td>202</td>\n      <td>361</td>\n      <td>166</td>\n      <td>...</td>\n      <td>-888888888</td>\n      <td>-888888888</td>\n      <td>-888888888</td>\n      <td>-888888888</td>\n      <td>-888888888</td>\n      <td>-888888888</td>\n      <td>-888888888</td>\n      <td>12</td>\n      <td>086</td>\n      <td>000213</td>\n    </tr>\n    <tr>\n      <th>3</th>\n      <td>1400000US12086000214</td>\n      <td>Census Tract 2.14, Miami-Dade County, Florida</td>\n      <td>6754</td>\n      <td>755</td>\n      <td>711</td>\n      <td>289</td>\n      <td>716</td>\n      <td>254</td>\n      <td>342</td>\n      <td>175</td>\n      <td>...</td>\n      <td>-888888888</td>\n      <td>-888888888</td>\n      <td>-888888888</td>\n      <td>-888888888</td>\n      <td>-888888888</td>\n      <td>-888888888</td>\n      <td>-888888888</td>\n      <td>12</td>\n      <td>086</td>\n      <td>000214</td>\n    </tr>\n    <tr>\n      <th>4</th>\n      <td>1400000US12086000128</td>\n      <td>Census Tract 1.28, Miami-Dade County, Florida</td>\n      <td>3021</td>\n      <td>338</td>\n      <td>134</td>\n      <td>76</td>\n      <td>74</td>\n      <td>72</td>\n      <td>122</td>\n      <td>81</td>\n      <td>...</td>\n      <td>-888888888</td>\n      <td>-888888888</td>\n      <td>-888888888</td>\n      <td>-888888888</td>\n      <td>-888888888</td>\n      <td>-888888888</td>\n      <td>-888888888</td>\n      <td>12</td>\n      <td>086</td>\n      <td>000128</td>\n    </tr>\n    <tr>\n      <th>...</th>\n      <td>...</td>\n      <td>...</td>\n      <td>...</td>\n      <td>...</td>\n      <td>...</td>\n      <td>...</td>\n      <td>...</td>\n      <td>...</td>\n      <td>...</td>\n      <td>...</td>\n      <td>...</td>\n      <td>...</td>\n      <td>...</td>\n      <td>...</td>\n      <td>...</td>\n      <td>...</td>\n      <td>...</td>\n      <td>...</td>\n      <td>...</td>\n      <td>...</td>\n      <td>...</td>\n    </tr>\n    <tr>\n      <th>4240</th>\n      <td>1400000US12019031200</td>\n      <td>Census Tract 312, Clay County, Florida</td>\n      <td>15742</td>\n      <td>959</td>\n      <td>882</td>\n      <td>365</td>\n      <td>1133</td>\n      <td>270</td>\n      <td>982</td>\n      <td>307</td>\n      <td>...</td>\n      <td>-888888888</td>\n      <td>-888888888</td>\n      <td>-888888888</td>\n      <td>-888888888</td>\n      <td>-888888888</td>\n      <td>-888888888</td>\n      <td>-888888888</td>\n      <td>12</td>\n      <td>019</td>\n      <td>031200</td>\n    </tr>\n    <tr>\n      <th>4241</th>\n      <td>1400000US12019030801</td>\n      <td>Census Tract 308.01, Clay County, Florida</td>\n      <td>5723</td>\n      <td>496</td>\n      <td>286</td>\n      <td>181</td>\n      <td>461</td>\n      <td>180</td>\n      <td>284</td>\n      <td>122</td>\n      <td>...</td>\n      <td>-888888888</td>\n      <td>-888888888</td>\n      <td>-888888888</td>\n      <td>-888888888</td>\n      <td>-888888888</td>\n      <td>-888888888</td>\n      <td>-888888888</td>\n      <td>12</td>\n      <td>019</td>\n      <td>030801</td>\n    </tr>\n    <tr>\n      <th>4242</th>\n      <td>1400000US12019030902</td>\n      <td>Census Tract 309.02, Clay County, Florida</td>\n      <td>10342</td>\n      <td>700</td>\n      <td>366</td>\n      <td>215</td>\n      <td>581</td>\n      <td>167</td>\n      <td>1068</td>\n      <td>278</td>\n      <td>...</td>\n      <td>-888888888</td>\n      <td>-888888888</td>\n      <td>-888888888</td>\n      <td>-888888888</td>\n      <td>-888888888</td>\n      <td>-888888888</td>\n      <td>-888888888</td>\n      <td>12</td>\n      <td>019</td>\n      <td>030902</td>\n    </tr>\n    <tr>\n      <th>4243</th>\n      <td>1400000US12019030301</td>\n      <td>Census Tract 303.01, Clay County, Florida</td>\n      <td>8960</td>\n      <td>648</td>\n      <td>627</td>\n      <td>217</td>\n      <td>598</td>\n      <td>238</td>\n      <td>642</td>\n      <td>307</td>\n      <td>...</td>\n      <td>-888888888</td>\n      <td>-888888888</td>\n      <td>-888888888</td>\n      <td>-888888888</td>\n      <td>-888888888</td>\n      <td>-888888888</td>\n      <td>-888888888</td>\n      <td>12</td>\n      <td>019</td>\n      <td>030301</td>\n    </tr>\n    <tr>\n      <th>4244</th>\n      <td>1400000US12019031400</td>\n      <td>Census Tract 314, Clay County, Florida</td>\n      <td>5083</td>\n      <td>391</td>\n      <td>195</td>\n      <td>101</td>\n      <td>463</td>\n      <td>170</td>\n      <td>244</td>\n      <td>110</td>\n      <td>...</td>\n      <td>-888888888</td>\n      <td>-888888888</td>\n      <td>-888888888</td>\n      <td>-888888888</td>\n      <td>-888888888</td>\n      <td>-888888888</td>\n      <td>-888888888</td>\n      <td>12</td>\n      <td>019</td>\n      <td>031400</td>\n    </tr>\n  </tbody>\n</table>\n<p>4245 rows × 461 columns</p>\n</div>",
      "text/plain": "                    GEO_ID                                           NAME  \\\n0     1400000US12086000211  Census Tract 2.11, Miami-Dade County, Florida   \n1     1400000US12086000212  Census Tract 2.12, Miami-Dade County, Florida   \n2     1400000US12086000213  Census Tract 2.13, Miami-Dade County, Florida   \n3     1400000US12086000214  Census Tract 2.14, Miami-Dade County, Florida   \n4     1400000US12086000128  Census Tract 1.28, Miami-Dade County, Florida   \n...                    ...                                            ...   \n4240  1400000US12019031200         Census Tract 312, Clay County, Florida   \n4241  1400000US12019030801      Census Tract 308.01, Clay County, Florida   \n4242  1400000US12019030902      Census Tract 309.02, Clay County, Florida   \n4243  1400000US12019030301      Census Tract 303.01, Clay County, Florida   \n4244  1400000US12019031400         Census Tract 314, Clay County, Florida   \n\n     S0101_C01_001E S0101_C01_001M S0101_C01_002E S0101_C01_002M  \\\n0              2812            324            107             51   \n1              4709            442            404            122   \n2              5005            571            359            157   \n3              6754            755            711            289   \n4              3021            338            134             76   \n...             ...            ...            ...            ...   \n4240          15742            959            882            365   \n4241           5723            496            286            181   \n4242          10342            700            366            215   \n4243           8960            648            627            217   \n4244           5083            391            195            101   \n\n     S0101_C01_003E S0101_C01_003M S0101_C01_004E S0101_C01_004M  ...  \\\n0               127             71            155             54  ...   \n1               253            101            269            106  ...   \n2               469            202            361            166  ...   \n3               716            254            342            175  ...   \n4                74             72            122             81  ...   \n...             ...            ...            ...            ...  ...   \n4240           1133            270            982            307  ...   \n4241            461            180            284            122  ...   \n4242            581            167           1068            278  ...   \n4243            598            238            642            307  ...   \n4244            463            170            244            110  ...   \n\n     S0101_C06_035M S0101_C06_036E S0101_C06_036M S0101_C06_037E  \\\n0        -888888888     -888888888     -888888888     -888888888   \n1        -888888888     -888888888     -888888888     -888888888   \n2        -888888888     -888888888     -888888888     -888888888   \n3        -888888888     -888888888     -888888888     -888888888   \n4        -888888888     -888888888     -888888888     -888888888   \n...             ...            ...            ...            ...   \n4240     -888888888     -888888888     -888888888     -888888888   \n4241     -888888888     -888888888     -888888888     -888888888   \n4242     -888888888     -888888888     -888888888     -888888888   \n4243     -888888888     -888888888     -888888888     -888888888   \n4244     -888888888     -888888888     -888888888     -888888888   \n\n     S0101_C06_037M S0101_C06_038E S0101_C06_038M state county   tract  \n0        -888888888     -888888888     -888888888    12    086  000211  \n1        -888888888     -888888888     -888888888    12    086  000212  \n2        -888888888     -888888888     -888888888    12    086  000213  \n3        -888888888     -888888888     -888888888    12    086  000214  \n4        -888888888     -888888888     -888888888    12    086  000128  \n...             ...            ...            ...   ...    ...     ...  \n4240     -888888888     -888888888     -888888888    12    019  031200  \n4241     -888888888     -888888888     -888888888    12    019  030801  \n4242     -888888888     -888888888     -888888888    12    019  030902  \n4243     -888888888     -888888888     -888888888    12    019  030301  \n4244     -888888888     -888888888     -888888888    12    019  031400  \n\n[4245 rows x 461 columns]"
     },
     "execution_count": 39,
     "metadata": {},
     "output_type": "execute_result"
    }
   ],
   "source": [
    "df"
   ]
  }
 ],
 "metadata": {
  "interpreter": {
   "hash": "d8ac381c4dc17acb01e40f1c785144d1d8ae038ab0e657fe0b936b373e678ebc"
  },
  "kernelspec": {
   "display_name": "Python 3.8.8 64-bit ('AutoMarketSeg--9GRIfna': pipenv)",
   "name": "python3"
  },
  "language_info": {
   "codemirror_mode": {
    "name": "ipython",
    "version": 3
   },
   "file_extension": ".py",
   "mimetype": "text/x-python",
   "name": "python",
   "nbconvert_exporter": "python",
   "pygments_lexer": "ipython3",
   "version": "3.8.8"
  },
  "orig_nbformat": 2
 },
 "nbformat": 4,
 "nbformat_minor": 2
}